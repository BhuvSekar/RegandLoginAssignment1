{
  "nbformat": 4,
  "nbformat_minor": 0,
  "metadata": {
    "colab": {
      "name": "BhuvanaSekarAssignment1.ipynb",
      "provenance": [],
      "authorship_tag": "ABX9TyNwXLxF2oVQCxdNfHLyTbxA",
      "include_colab_link": true
    },
    "kernelspec": {
      "name": "python3",
      "display_name": "Python 3"
    },
    "language_info": {
      "name": "python"
    }
  },
  "cells": [
    {
      "cell_type": "markdown",
      "metadata": {
        "id": "view-in-github",
        "colab_type": "text"
      },
      "source": [
        "<a href=\"https://colab.research.google.com/github/BhuvSekar/RegandLoginAssignment1/blob/main/BhuvanaSekarAssignment1.ipynb\" target=\"_parent\"><img src=\"https://colab.research.google.com/assets/colab-badge.svg\" alt=\"Open In Colab\"/></a>"
      ]
    },
    {
      "cell_type": "code",
      "source": [
        "users = []\n",
        "Password = []\n",
        "status = \"\"\n",
        " \n",
        "def displayMenu():\n",
        "    status = input(\"Are you registered user? y/n? Press q to quit\")\n",
        "    if status == \"y\":\n",
        "        oldUser()\n",
        "    elif status == \"n\":\n",
        "        newUser()\n",
        " \n",
        "def newUser():\n",
        "    createLogin = input(\"Create login name: \")\n",
        "    Special = ['$', '@', '#', '%']\n",
        " \n",
        "    if createLogin in users:\n",
        "        print(\"\\nLogin name already exist!\\n\")\n",
        "    elif not createLogin.endswith(\"gmail.com\"):\n",
        "      print(\"Wrong mailid\")\n",
        "      newUser()\n",
        "    else:    \n",
        "      createPassw = input(\"Create password: \")\n",
        "        \n",
        "    if len(createPassw) < 5:\n",
        "        print('length should be at least 5')\n",
        "            \n",
        "    if len(createPassw) > 16:\n",
        "      print('length should be not be greater than 16')\n",
        "            \n",
        "    if not any(char.isdigit() for char in createPassw):\n",
        "      print('Password should have at least one numeral')\n",
        "            \n",
        "    if not any(char.isupper() for char in createPassw):\n",
        "      print('Password should have at least one uppercase letter')\n",
        "            \n",
        "    if not any(char.islower() for char in createPassw):\n",
        "      print('Password should have at least one lowercase letter')\n",
        "            \n",
        "    if not any(char in Special for char in createPassw):\n",
        "      print('Password should have at least one of the symbols $@#')\n",
        "\n",
        "    else:\n",
        "      users.append(createLogin)  \n",
        "      Password.append(createPassw)\n",
        "      print(\"\\nUser created\\n\")\n",
        " \n",
        "def oldUser():\n",
        "    login = input(\"Enter login name: \")\n",
        "    passw = input(\"Enter password: \")\n",
        " \n",
        "    if login in users and passw in Password:\n",
        "        print(\"\\nLogin successful!\\n\")\n",
        "    else:\n",
        "        print(\"\\nUser doesn't exist or wrong password!\\n\")\n",
        " \n",
        "while status != \"q\":\n",
        "    displayMenu()\n"
      ],
      "metadata": {
        "colab": {
          "base_uri": "https://localhost:8080/"
        },
        "id": "UJM1vMqfRDcz",
        "outputId": "32ebdd81-e4ee-4587-9ebc-d08fdc94e93e"
      },
      "execution_count": null,
      "outputs": [
        {
          "name": "stdout",
          "output_type": "stream",
          "text": [
            "Are you registered user? y/n? Press q to quitq\n"
          ]
        }
      ]
    }
  ]
}